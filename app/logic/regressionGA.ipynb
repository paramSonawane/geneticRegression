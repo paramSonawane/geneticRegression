{
 "cells": [
  {
   "cell_type": "code",
   "execution_count": null,
   "metadata": {},
   "outputs": [],
   "source": [
    "import pandas as pd\n",
    "df = pd.read_csv(r'Mumbai.csv')\n",
    "df['Price'] = df['Price']/100000\n",
    "df.tail()\n",
    "df.describe()\n"
   ]
  },
  {
   "cell_type": "code",
   "execution_count": null,
   "metadata": {},
   "outputs": [],
   "source": [
    "import numpy as np\n",
    "X1 = np.array(df['Area'])\n",
    "X1 = X1.reshape((len(X1),1))\n",
    "X2 = np.array(df['No. of Bedrooms'])\n",
    "X2 = X2.reshape((len(X2),1))\n",
    "Y = np.array(df['Price'])\n",
    "Y = Y.reshape(len(Y), 1)\n",
    "Y"
   ]
  },
  {
   "cell_type": "code",
   "execution_count": null,
   "metadata": {},
   "outputs": [],
   "source": [
    "split = int(0.7 * X1.shape[0])\n",
    "\n",
    "X1_train = X1[:split]\n",
    "X1_test = X1[split:]\n",
    "X2_train = X2[:split]\n",
    "X2_test = X2[split:]\n",
    "y_train = Y[:split]\n",
    "y_test = Y[split:]\n",
    "\n",
    "print (X1_train.shape, X1_test.shape)\n",
    "print (y_train.shape, y_test.shape)\n",
    "y_train"
   ]
  },
  {
   "cell_type": "code",
   "execution_count": null,
   "metadata": {},
   "outputs": [],
   "source": [
    "Dn = 3                    \n",
    "M = 0.7\n",
    "NP = 1000\n",
    "G = 500"
   ]
  },
  {
   "cell_type": "code",
   "execution_count": null,
   "metadata": {},
   "outputs": [],
   "source": [
    "def hypothesis(w, x1=X1_train, x2 = X2_train):\n",
    "    return x1*w[0] + x2*w[1] + w[2]"
   ]
  },
  {
   "cell_type": "code",
   "execution_count": null,
   "metadata": {},
   "outputs": [],
   "source": [
    "# Loss Function\n",
    "r = y_train\n",
    "def f(w):\n",
    "#     print(w[1])\n",
    "    y = hypothesis(w)\n",
    "#     print(y[0])\n",
    "    y = np.reshape(y,(-1,1))\n",
    "#     print (y.shape)\n",
    "    #print r.shape\n",
    "    return ((r - y)**2).sum()\n",
    "\n",
    "# print (r.shape)"
   ]
  },
  {
   "cell_type": "code",
   "execution_count": null,
   "metadata": {},
   "outputs": [],
   "source": [
    "def crossover(parent_1, parent_2):\n",
    "    child_1 = np.zeros(parent_1.shape)\n",
    "    child_2 = np.zeros(parent_2.shape)\n",
    "    dim = int(parent_1.shape[0] / 2.0)\n",
    "#     child_1[:dim] = (parent_1[:dim] + parent_2[:dim])/2\n",
    "#     child_1[dim:] = (parent_1[dim:] + parent_2[dim:])/2\n",
    "    child_1 = 0.5 * (parent_1 + parent_2)\n",
    "#     child_2[:dim] = parent_2[:dim]\n",
    "#     child_2[dim:] = parent_1[dim:]\n",
    "    child_2 = 1.5 * parent_1 - 0.5 * parent_2\n",
    "    \n",
    "    return child_1, child_2\n",
    "\n",
    "def mutate(x):\n",
    "    for ix in range(x.shape[0]):\n",
    "        # Generate a random number for probability\n",
    "        R = np.random.random()\n",
    "        \n",
    "        if R < M:\n",
    "            # Mutate random index \n",
    "            x[ix] = np.random.normal(0, 10000)\n",
    "        else:\n",
    "            pass\n",
    "    return x"
   ]
  },
  {
   "cell_type": "code",
   "execution_count": null,
   "metadata": {
    "tags": [
     "outputPrepend"
    ]
   },
   "outputs": [],
   "source": [
    "import random\n",
    "\n",
    "loss = []\n",
    "pop = []\n",
    "               \n",
    "for ix in range(NP):\n",
    "    vec = np.random.normal(10, 1000, (Dn,))\n",
    "    pop.append(vec)\n",
    "\n",
    "# print (pop[0])\n",
    "\n",
    "# Main Genetic Algo loop\n",
    "for gx in range(G):\n",
    "    pop = sorted(pop, key=lambda z: f(z))\n",
    "    if True:#gx%10 == 0:\n",
    "        print (\"Generation: {} | Best Value: {}\".format(gx, f(pop[0])))\n",
    "        \n",
    "    loss.append(f(pop[0]))\n",
    "    \n",
    "    # create a temp population\n",
    "    temp = []\n",
    "    \n",
    "    while not len(temp) == NP:\n",
    "        # Select 2 parents from good section of population\n",
    "#         p1, p2 = random.sample(pop[:int(NP/2.0)], 2)\n",
    "        index1 = random.randint(0, 100000) % int(NP / 4)\n",
    "        index2 = random.randint(0, 10000000) % int(NP / 4)\n",
    "        p1 = pop[index1]\n",
    "        p2 = pop[index2]\n",
    "#         print (p1)\n",
    "#         print (p2)\n",
    "        # Apply crossover\n",
    "        c1, c2 = crossover(p1, p2)\n",
    "        # mutate\n",
    "        c1 = mutate(c1)\n",
    "        c2 = mutate(c2)\n",
    "        \n",
    "        temp.append(c1)\n",
    "        temp.append(c2)\n",
    "    \n",
    "    # create a combined population\n",
    "    comb = temp + pop\n",
    "    \n",
    "    # survival of the fittest\n",
    "    pop = sorted(comb, key=lambda z: f(z))[:NP]"
   ]
  },
  {
   "cell_type": "code",
   "execution_count": null,
   "metadata": {},
   "outputs": [],
   "source": [
    "from matplotlib import pyplot as plt\n",
    "%matplotlib inline\n",
    "import seaborn as sns\n",
    "plt.plot(loss)\n"
   ]
  },
  {
   "cell_type": "code",
   "execution_count": null,
   "metadata": {},
   "outputs": [],
   "source": [
    "def hypothesis_test(w, x1=X1_test, x2 = X2_test):\n",
    "    return x1*w[0] + x2*w[1] + w[2]"
   ]
  },
  {
   "cell_type": "code",
   "execution_count": null,
   "metadata": {},
   "outputs": [],
   "source": [
    "r1 = y_test\n",
    "def f_test(w):\n",
    "    y = hypothesis_test(w)\n",
    "    print(y.shape)\n",
    "    y = np.reshape(y,(-1,1))\n",
    "    #print y.shape\n",
    "    #print r.shape\n",
    "    return ((r1 - y)**2)\n",
    "\n",
    "# print r.shape"
   ]
  },
  {
   "cell_type": "code",
   "execution_count": null,
   "metadata": {},
   "outputs": [],
   "source": [
    "(hypothesis_test(pop[0]))\n"
   ]
  },
  {
   "cell_type": "code",
   "execution_count": null,
   "metadata": {},
   "outputs": [],
   "source": [
    "plt.scatter(X1_train, y_train)\n",
    "y_train.max()"
   ]
  },
  {
   "cell_type": "code",
   "execution_count": null,
   "metadata": {},
   "outputs": [],
   "source": [
    "plt.scatter(X1_test, hypothesis_test(pop[0]))"
   ]
  },
  {
   "cell_type": "code",
   "execution_count": null,
   "metadata": {},
   "outputs": [],
   "source": [
    "r2 = 1 - ((hypothesis(pop[0]) - y_train)**2).sum() / ((y_train - y_train.mean())**2).sum()\n",
    "r2"
   ]
  },
  {
   "cell_type": "code",
   "execution_count": null,
   "metadata": {
    "scrolled": true
   },
   "outputs": [],
   "source": [
    "area = int(input())\n",
    "rooms = int(input())\n",
    "price_of_house = pop[0][0] * area + pop[0][1] * rooms + pop[0][2]\n",
    "print(price_of_house , \" lakhs\")"
   ]
  },
  {
   "cell_type": "code",
   "execution_count": null,
   "metadata": {
    "tags": [
     "outputPrepend"
    ]
   },
   "outputs": [],
   "source": [
    "l = []\n",
    "for e in hypothesis(pop[0], X1_train, X2_train):\n",
    "    l.append(float(e))\n",
    "l\n",
    "coor = []\n",
    "for i in range(len(l)):\n",
    "    print(\"{}\".format(float(X1_train[i])), end=',')"
   ]
  },
  {
   "cell_type": "code",
   "execution_count": null,
   "metadata": {},
   "outputs": [],
   "source": [
    "x = np.array([df['Area'], df['No. of Bedrooms']])\n",
    "x = x.transpose()\n",
    "s = int(len(x[:, 0])*0.7)\n",
    "x_train1 = x[:s]\n",
    "x_test1 = x[s:]\n",
    "x.shape"
   ]
  },
  {
   "cell_type": "code",
   "execution_count": null,
   "metadata": {},
   "outputs": [],
   "source": [
    "y = np.array(df['Price'])\n",
    "y_train1 = y[:s]\n",
    "y_test1 = y[s:]\n",
    "y.shape"
   ]
  },
  {
   "cell_type": "code",
   "execution_count": null,
   "metadata": {},
   "outputs": [],
   "source": [
    "from sklearn.linear_model import LinearRegression"
   ]
  },
  {
   "cell_type": "code",
   "execution_count": null,
   "metadata": {},
   "outputs": [],
   "source": [
    "reg = LinearRegression().fit(x_train1, y_train1)\n",
    "print(reg.coef_)\n",
    "print(reg.intercept_)"
   ]
  },
  {
   "cell_type": "code",
   "execution_count": null,
   "metadata": {},
   "outputs": [],
   "source": [
    "pop[0]"
   ]
  },
  {
   "cell_type": "code",
   "execution_count": null,
   "metadata": {},
   "outputs": [],
   "source": [
    "reg.predict(np.array([[250, 2]]))"
   ]
  },
  {
   "cell_type": "code",
   "execution_count": null,
   "metadata": {},
   "outputs": [],
   "source": [
    "reg.predict(x_train1)"
   ]
  },
  {
   "cell_type": "code",
   "execution_count": null,
   "metadata": {},
   "outputs": [],
   "source": [
    "from sklearn.metrics import r2_score\n",
    "r2 = r2_score(y_train1, reg.predict(x_train1))\n",
    "r2"
   ]
  },
  {
   "cell_type": "code",
   "execution_count": null,
   "metadata": {},
   "outputs": [],
   "source": [
    "hypothesis(pop[0]).reshape(1, -1)[0]"
   ]
  },
  {
   "cell_type": "code",
   "execution_count": null,
   "metadata": {},
   "outputs": [],
   "source": [
    "import numpy, scipy, scipy.optimize\n",
    "import matplotlib\n",
    "from mpl_toolkits.mplot3d import  Axes3D\n",
    "from matplotlib import cm # to colormap 3D surfaces from blue to red\n",
    "import matplotlib.pyplot as plt\n",
    "\n",
    "\n",
    "graphWidth = 800 # units are pixels\n",
    "graphHeight = 600 # units are pixels\n",
    "\n",
    "# 3D contour plot lines\n",
    "numberOfContourLines = 16\n",
    "\n",
    "# xData = numpy.array([971.0, 691.0, 841.0, 970.0, 755.0, 684.0, 938.0, 956.0, 658.0, 838.0, 879.0, 752.0, 690.0, 970.0, 964.0, 966.0, 901.0, 671.0, 660.0, 666.0, 765.0, 831.0, 899.0, 668.0, 969.0, 967.0, 651.0, 929.0, 805.0, 812.0, 936.0, 650.0, 964.0, 719.0, 654.0, 646.0, 932.0, 827.0, 917.0, 945.0, 724.0, 956.0, 966.0, 969.0, 968.0, 967.0, 718.0, 966.0, 812.0, 649.0, 645.0, 675.0, 959.0, 966.0, 962.0, 967.0, 956.0, 757.0, 964.0, 817.0, 666.0, 812.0, 902.0, 969.0, 661.0, 962.0, 752.0, 802.0, 670.0, 663.0, 966.0, 967.0, 773.0, 663.0, 818.0, 917.0, 952.0, 834.0, 516.0, 547.0, 846.0, 458.0, 490.0, 835.0, 579.0, 472.0, 557.0, 652.0, 471.0, 455.0, 837.0, 842.0, 832.0, 675.0, 529.0, 509.0, 533.0, 493.0, 572.0, 695.0, 464.0, 846.0, 845.0, 505.0, 833.0, 544.0, 550.0, 594.0, 486.0, 847.0, 471.0, 533.0, 497.0, 838.0, 832.0, 830.0, 847.0, 844.0, 837.0, 831.0, 671.0, 844.0, 824.0, 841.0, 532.0, 576.0, 852.0, 471.0, 496.0, 839.0, 587.0, 478.0, 565.0, 657.0, 481.0, 463.0, 841.0, 842.0, 832.0, 682.0, 532.0, 509.0, 539.0, 497.0, 574.0, 704.0, 472.0, 850.0, 849.0, 512.0, 834.0, 540.0, 542.0, 603.0, 481.0, 847.0, 472.0, 529.0, 496.0, 836.0, 570.0, 588.0, 837.0, 474.0, 781.0, 842.0, 855.0, 846.0, 845.0, 518.0, 854.0, 585.0, 531.0, 539.0, 536.0])\n",
    "# yData = numpy.array([956.0, 825.0, 963.0, 731.0, 939.0, 879.0, 523.0, 962.0, 880.0, 962.0, 536.0, 942.0, 902.0, 954.0, 662.0, 959.0, 550.0, 798.0, 836.0, 778.0, 945.0, 959.0, 532.0, 880.0, 783.0, 733.0, 833.0, 526.0, 955.0, 956.0, 959.0, 863.0, 714.0, 924.0, 778.0, 849.0, 523.0, 957.0, 960.0, 559.0, 925.0, 959.0, 955.0, 760.0, 953.0, 952.0, 921.0, 713.0, 955.0, 838.0, 819.0, 781.0, 956.0, 950.0, 714.0, 937.0, 955.0, 947.0, 739.0, 957.0, 864.0, 957.0, 531.0, 896.0, 796.0, 954.0, 945.0, 955.0, 762.0, 878.0, 951.0, 953.0, 951.0, 877.0, 959.0, 958.0, 609.0, 791.0, 496.0, 786.0, 597.0, 615.0, 574.0, 432.0, 805.0, 599.0, 793.0, 344.0, 617.0, 615.0, 792.0, 456.0, 807.0, 328.0, 504.0, 543.0, 494.0, 644.0, 803.0, 319.0, 611.0, 690.0, 471.0, 543.0, 392.0, 774.0, 783.0, 812.0, 597.0, 478.0, 627.0, 508.0, 576.0, 799.0, 803.0, 421.0, 534.0, 645.0, 791.0, 422.0, 321.0, 790.0, 384.0, 803.0, 520.0, 797.0, 563.0, 629.0, 581.0, 441.0, 809.0, 602.0, 797.0, 354.0, 625.0, 621.0, 796.0, 463.0, 806.0, 333.0, 511.0, 543.0, 501.0, 648.0, 804.0, 323.0, 620.0, 689.0, 483.0, 554.0, 396.0, 767.0, 777.0, 806.0, 596.0, 479.0, 625.0, 506.0, 574.0, 411.0, 801.0, 811.0, 426.0, 626.0, 811.0, 809.0, 515.0, 805.0, 804.0, 651.0, 564.0, 795.0, 589.0, 576.0, 495.0])\n",
    "# zData = numpy.array([-2.0, -105.0, -26.0, 44.0, -69.0, -65.0, 60.0, -22.0, -77.0, -24.0, 58.0, -36.0, -66.0, -3.0, 34.0, -8.0, 57.0, -82.0, -98.0, -90.0, -55.0, -23.0, 60.0, -61.0, 29.0, 36.0, -72.0, 61.0, -44.0, -47.0, -27.0, -73.0, 40.0, -37.0, -107.0, -89.0, 68.0, -32.0, -38.0, 63.0, -54.0, -33.0, 16.0, 34.0, 3.0, 15.0, -61.0, 54.0, -39.0, -72.0, -77.0, -97.0, -16.0, 0.0, 45.0, 11.0, -9.0, -57.0, 47.0, -37.0, -82.0, -15.0, 63.0, 21.0, -73.0, 4.0, -55.0, -23.0, -87.0, -74.0, 24.0, -1.0, -46.0, -59.0, -47.0, -18.0, 41.0, 18.0, -104.0, -25.0, 18.0, -55.0, -64.0, 55.0, -35.0, -56.0, -25.0, 63.0, -46.0, -70.0, 16.0, 59.0, -17.0, 78.0, -86.0, -102.0, -113.0, -41.0, -53.0, 68.0, -56.0, 28.0, 24.0, -88.0, 42.0, -59.0, -35.0, -38.0, -79.0, 48.0, -65.0, -113.0, -73.0, 4.0, -8.0, 63.0, 28.0, 23.0, 25.0, 48.0, 74.0, 7.0, 45.0, 11.0, -92.0, -38.0, 29.0, -69.0, -87.0, 56.0, -31.0, -60.0, -29.0, 59.0, -43.0, -53.0, -4.0, 50.0, -5.0, 74.0, -89.0, -84.0, -116.0, -53.0, -42.0, 46.0, -69.0, 32.0, 36.0, -83.0, 57.0, -64.0, -36.0, -18.0, -94.0, 52.0, -72.0, -87.0, -77.0, 44.0, -57.0, -33.0, 53.0, -76.0, -33.0, -12.0, 15.0, 9.0, -6.0, -70.0, 43.0, -58.0, -100.0, -78.0, -97.0])\n",
    "xData = X1_train.reshape(1,-1)[0]\n",
    "yData = X2_train.reshape(1,-1)[0]\n",
    "zData = hypothesis(pop[0]).reshape(1, -1)[0]\n",
    "\n",
    "# Simple_SimpleEquation_42_Offset_model from zunzun.com\n",
    "def curvedModel(data, a, b, c, Offset):\n",
    "    x = data[0]\n",
    "    y = data[1]\n",
    "    return numpy.exp(a+b/y+c*numpy.log(x)) + Offset\n",
    "\n",
    "def flatModel(data, a, b, Offset):\n",
    "    x = data[0]\n",
    "    y = data[1]\n",
    "    return a*x + b*y + Offset\n",
    "\n",
    "\n",
    "# choose model by commenting\n",
    "#func = flatModel\n",
    "#initialParameters = [1.0, 1.0, 1.0] # these are the same as scipy default values in this example\n",
    "func = curvedModel \n",
    "initialParameters = [1.0, 1.0, 1.0, 1.0] # these are the same as scipy default values in this example\n",
    "\n",
    "\n",
    "\n",
    "def SurfacePlot(func, data, fittedParameters):\n",
    "    f = plt.figure(figsize=(graphWidth/100.0, graphHeight/100.0), dpi=100)\n",
    "\n",
    "    matplotlib.pyplot.grid(True)\n",
    "    axes = Axes3D(f)\n",
    "\n",
    "    x_data = data[0]\n",
    "    y_data = data[1]\n",
    "    z_data = data[2]\n",
    "\n",
    "    xModel = numpy.linspace(min(x_data), max(x_data), 20)\n",
    "    yModel = numpy.linspace(min(y_data), max(y_data), 20)\n",
    "    X, Y = numpy.meshgrid(xModel, yModel)\n",
    "\n",
    "    Z = func(numpy.array([X, Y]), *fittedParameters)\n",
    "\n",
    "    axes.plot_surface(X, Y, Z, rstride=1, cstride=1, cmap=cm.coolwarm, linewidth=1, antialiased=True)\n",
    "\n",
    "    axes.scatter(x_data, y_data, z_data) # show data along with plotted surface\n",
    "\n",
    "    axes.set_title('Surface Plot (click-drag with mouse)') # add a title for surface plot\n",
    "    axes.set_xlabel('X Data') # X axis data label\n",
    "    axes.set_ylabel('Y Data') # Y axis data label\n",
    "    axes.set_zlabel('Z Data') # Z axis data label\n",
    "\n",
    "    plt.show()\n",
    "    plt.close('all') # clean up after using pyplot or else thaere can be memory and process problems\n",
    "\n",
    "\n",
    "def ContourPlot(func, data, fittedParameters):\n",
    "    f = plt.figure(figsize=(graphWidth/100.0, graphHeight/100.0), dpi=100)\n",
    "    axes = f.add_subplot(111)\n",
    "\n",
    "    x_data = data[0]\n",
    "    y_data = data[1]\n",
    "    z_data = data[2]\n",
    "\n",
    "    xModel = numpy.linspace(min(x_data), max(x_data), 20)\n",
    "    yModel = numpy.linspace(min(y_data), max(y_data), 20)\n",
    "    X, Y = numpy.meshgrid(xModel, yModel)\n",
    "\n",
    "    Z = func(numpy.array([X, Y]), *fittedParameters)\n",
    "\n",
    "    axes.plot(x_data, y_data, 'o')\n",
    "\n",
    "    axes.set_title('Contour Plot') # add a title for contour plot\n",
    "    axes.set_xlabel('X Data') # X axis data label\n",
    "    axes.set_ylabel('Y Data') # Y axis data label\n",
    "\n",
    "    CS = matplotlib.pyplot.contour(X, Y, Z, numberOfContourLines, colors='k')\n",
    "    matplotlib.pyplot.clabel(CS, inline=1, fontsize=10) # labels for contours\n",
    "\n",
    "    plt.show()\n",
    "    plt.close('all') # clean up after using pyplot or else thaere can be memory and process problems\n",
    "\n",
    "\n",
    "def ScatterPlot(data):\n",
    "    f = plt.figure(figsize=(graphWidth/100.0, graphHeight/100.0), dpi=100)\n",
    "\n",
    "    matplotlib.pyplot.grid(True)\n",
    "    axes = Axes3D(f)\n",
    "    x_data = data[0]\n",
    "    y_data = data[1]\n",
    "    z_data = data[2]\n",
    "\n",
    "    axes.scatter(x_data, y_data, z_data)\n",
    "\n",
    "    axes.set_title('Scatter Plot (click-drag with mouse)')\n",
    "    axes.set_xlabel('X Data')\n",
    "    axes.set_ylabel('Y Data')\n",
    "    axes.set_zlabel('Z Data')\n",
    "\n",
    "    plt.show()\n",
    "    plt.close('all') # clean up after using pyplot or else thaere can be memory and process problems\n",
    "\n",
    "\n",
    "if __name__ == \"__main__\":\n",
    "    data = [xData, yData, zData]\n",
    "\n",
    "    # here a non-linear surface fit is made with scipy's curve_fit()\n",
    "    fittedParameters, pcov = scipy.optimize.curve_fit(func, [xData, yData], zData, p0 = initialParameters)\n",
    "\n",
    "    ScatterPlot(data)\n",
    "    SurfacePlot(func, data, fittedParameters)\n",
    "    ContourPlot(func, data, fittedParameters)\n",
    "\n",
    "#     print('fitted prameters', fittedParameters)\n",
    "\n",
    "#     modelPredictions = func(data, *fittedParameters) \n",
    "\n",
    "#     absError = modelPredictions - zData\n",
    "\n",
    "#     SE = numpy.square(absError) # squared errors\n",
    "#     MSE = numpy.mean(SE) # mean squared errors\n",
    "#     RMSE = numpy.sqrt(MSE) # Root Mean Squared Error, RMSE\n",
    "#     Rsquared = 1.0 - (numpy.var(absError) / numpy.var(zData))\n",
    "#     print('RMSE:', RMSE)\n",
    "#     print('R-squared:', Rsquared)"
   ]
  },
  {
   "cell_type": "code",
   "execution_count": null,
   "metadata": {},
   "outputs": [],
   "source": []
  }
 ],
 "metadata": {
  "kernelspec": {
   "display_name": "Python 3",
   "language": "python",
   "name": "python3"
  },
  "language_info": {
   "codemirror_mode": {
    "name": "ipython",
    "version": 3
   },
   "file_extension": ".py",
   "mimetype": "text/x-python",
   "name": "python",
   "nbconvert_exporter": "python",
   "pygments_lexer": "ipython3",
   "version": "3.8.5"
  }
 },
 "nbformat": 4,
 "nbformat_minor": 4
}